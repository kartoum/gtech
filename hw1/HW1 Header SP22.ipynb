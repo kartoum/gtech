{
 "cells": [
  {
   "cell_type": "markdown",
   "id": "6c5228de-0794-494a-a297-38ef6c747d70",
   "metadata": {},
   "source": [
    "### 2.1 Describe a situation or problem from your job, everyday life, current events, etc., for which a classification model would be appropriate. List some (up to 5) predictors that you might use.\n",
    "\n",
    "I like to go out to eat with my wife. Unfortunately, whenever I invite her to eat, she always comments that \"she would like anything,\"  but when choosing a type of food, I always doubt whether she will like it. So I would like to build a model to determine if my wife will like going out to eat, I'm thinking of many predictors for this outcome, including serotonin levels of my wife's brain, but some others that may be easier to measure are;\n",
    "1. The type of cuisine: for instance, whether it is Italian, American, Fast-food, Chinese, or Mexican.\n",
    "2. The restaurant's rating, whether it is high-end or casual dining.\n",
    "3. The specific dishes that your wife has liked in the past.\n",
    "4. The time of the day you are going out to eat, whether lunch or dinner.\n",
    "5. My wife's dietary restrictions, allergies or foods she dislike.\n"
   ]
  },
  {
   "cell_type": "markdown",
   "id": "e40d362c-5a1a-4ac0-8746-6835f2423692",
   "metadata": {},
   "source": [
    "### 2.2 Processing credit card data\n",
    "1. The files credit_card_data.txt (without headers) \n",
    "2. credit_card_data-headers.txt (with headers)\n",
    "\n",
    "Contain a dataset with 654 data points, 6 continuous and 4 binary predictor variables.  \n",
    "It has anonymized credit card applications with a binary response variable (last column) indicating if the application was positive or negative. \n",
    "\n",
    "The dataset is the “Credit Approval Data Set” from the UCI Machine \n",
    "Learning Repository (https://archive.ics.uci.edu/ml/datasets/Credit+Approval) without the categorical variables and without data points that have missing values.\n",
    "\n",
    "\n"
   ]
  },
  {
   "cell_type": "markdown",
   "id": "eefd7ad0-4d0d-485a-8c11-b731eba961d1",
   "metadata": {},
   "source": [
    "_____________\n",
    "1. Using the support vector machine function ksvm contained in the R package kernlab, find a  good classifier for this data. Show the equation of your classifier, and how well it classifies the data points in the full data set.  (Don’t worry about test/validation data yet; we’ll cover that topic soon.) "
   ]
  },
  {
   "cell_type": "code",
   "execution_count": 10,
   "id": "9d1c63c0-cd8c-448e-a67b-3558df60e5ab",
   "metadata": {},
   "outputs": [],
   "source": [
    "# This code reads in a tab-separated file called \"credit_card_data-headers.txt\" \n",
    "# located in the \"./work\" directory, and assigns it to the variable \"data\". \n",
    "# The \"header = TRUE\" argument specifies that the first row of the file contains \n",
    "# column names, which will be used as the variable names in the resulting data frame. \n",
    "# The \"sep = '\\t'\" argument specifies that the file is tab-separated.\n",
    "\n",
    "data <- read.table(\"./work/credit_card_data-headers.txt\", header = TRUE, sep = \"\\t\")\n"
   ]
  },
  {
   "cell_type": "code",
   "execution_count": 11,
   "id": "3513b28a-025f-415e-9a70-a2428eaefb9d",
   "metadata": {},
   "outputs": [
    {
     "data": {
      "text/plain": [
       "       A1               A2              A3               A8        \n",
       " Min.   :0.0000   Min.   :13.75   Min.   : 0.000   Min.   : 0.000  \n",
       " 1st Qu.:0.0000   1st Qu.:22.58   1st Qu.: 1.040   1st Qu.: 0.165  \n",
       " Median :1.0000   Median :28.46   Median : 2.855   Median : 1.000  \n",
       " Mean   :0.6896   Mean   :31.58   Mean   : 4.831   Mean   : 2.242  \n",
       " 3rd Qu.:1.0000   3rd Qu.:38.25   3rd Qu.: 7.438   3rd Qu.: 2.615  \n",
       " Max.   :1.0000   Max.   :80.25   Max.   :28.000   Max.   :28.500  \n",
       "       A9              A10              A11              A12        \n",
       " Min.   :0.0000   Min.   :0.0000   Min.   : 0.000   Min.   :0.0000  \n",
       " 1st Qu.:0.0000   1st Qu.:0.0000   1st Qu.: 0.000   1st Qu.:0.0000  \n",
       " Median :1.0000   Median :1.0000   Median : 0.000   Median :1.0000  \n",
       " Mean   :0.5352   Mean   :0.5612   Mean   : 2.498   Mean   :0.5382  \n",
       " 3rd Qu.:1.0000   3rd Qu.:1.0000   3rd Qu.: 3.000   3rd Qu.:1.0000  \n",
       " Max.   :1.0000   Max.   :1.0000   Max.   :67.000   Max.   :1.0000  \n",
       "      A14               A15               R1        \n",
       " Min.   :   0.00   Min.   :     0   Min.   :0.0000  \n",
       " 1st Qu.:  70.75   1st Qu.:     0   1st Qu.:0.0000  \n",
       " Median : 160.00   Median :     5   Median :0.0000  \n",
       " Mean   : 180.08   Mean   :  1013   Mean   :0.4526  \n",
       " 3rd Qu.: 271.00   3rd Qu.:   399   3rd Qu.:1.0000  \n",
       " Max.   :2000.00   Max.   :100000   Max.   :1.0000  "
      ]
     },
     "metadata": {},
     "output_type": "display_data"
    }
   ],
   "source": [
    "# Using the summary() function to get a summary of each variable in the dataset\n",
    "# including the mean, median, and quartiles.\n",
    "\n",
    "summary(data)\n"
   ]
  },
  {
   "cell_type": "code",
   "execution_count": 52,
   "id": "c3424650-9ad7-442a-89e6-9240b5b944e9",
   "metadata": {},
   "outputs": [
    {
     "name": "stderr",
     "output_type": "stream",
     "text": [
      "Updating HTML index of packages in '.Library'\n",
      "\n",
      "Making 'packages.html' ...\n",
      " done\n",
      "\n"
     ]
    },
    {
     "name": "stdout",
     "output_type": "stream",
     "text": [
      " Setting default kernel parameters  \n",
      "[1] \"Equation weight\"\n"
     ]
    },
    {
     "data": {
      "text/html": [
       "-0.081584921659423"
      ],
      "text/latex": [
       "-0.081584921659423"
      ],
      "text/markdown": [
       "-0.081584921659423"
      ],
      "text/plain": [
       "[1] -0.08158492"
      ]
     },
     "metadata": {},
     "output_type": "display_data"
    },
    {
     "name": "stdout",
     "output_type": "stream",
     "text": [
      "[1] \"predictions match\"\n"
     ]
    },
    {
     "data": {
      "text/html": [
       "0.863914373088685"
      ],
      "text/latex": [
       "0.863914373088685"
      ],
      "text/markdown": [
       "0.863914373088685"
      ],
      "text/plain": [
       "[1] 0.8639144"
      ]
     },
     "metadata": {},
     "output_type": "display_data"
    }
   ],
   "source": [
    "# install and load the kernlab package\n",
    "install.packages(\"kernlab\")\n",
    "library(kernlab)\n",
    "\n",
    "# set seed for reproducibility\n",
    "set.seed(123)\n",
    "\n",
    "# Define the predictor and response variables\n",
    "x <- data[,c(\"A1\",\"A2\",\"A3\",\"A8\",\"A9\",\"A10\",\"A11\",\"A12\",\"A14\",\"A15\")]\n",
    "y <- data[,\"R1\"]\n",
    "\n",
    "# Train the classifier using the ksvm function\n",
    "# set the kernel to linear\n",
    "# x needs to be a Matrix\n",
    "classifier <- ksvm(as.matrix(x), as.factor(y), scaled=TRUE,type = \"C-svc\", kernel=\"vanilladot\",C=100)\n",
    "\n",
    "equation <- colSums(classifier@xmatrix[[1]] * classifier@coef[[1]]) \n",
    " \n",
    "# calculate a0 \n",
    "equation0 <- classifier@b \n",
    "print(\"Equation weight\")\n",
    "equation0 \n",
    "\n",
    "# Predict the class labels of the test data\n",
    "pred <- predict(classifier,x) \n",
    "\n",
    "\n",
    "print(\"predictions match\")\n",
    "sum(pred == y) / nrow(data) "
   ]
  },
  {
   "cell_type": "markdown",
   "id": "784eda17-ce5a-4f52-abe6-d774ba349e46",
   "metadata": {},
   "source": [
    "_____________\n",
    "2. You are welcome, but not required, to try other (nonlinear) kernels as well; we’re not covering them in this course, but they can sometimes be useful and might provide better predictions than vanilladot. "
   ]
  },
  {
   "cell_type": "code",
   "execution_count": 53,
   "id": "803ae7e4-adfe-4bf1-8f2d-babbcd22cf13",
   "metadata": {},
   "outputs": [
    {
     "name": "stdout",
     "output_type": "stream",
     "text": [
      " Setting default kernel parameters  \n",
      "[1] \"predictions match for besseldot\"\n"
     ]
    },
    {
     "data": {
      "text/html": [
       "0.925076452599388"
      ],
      "text/latex": [
       "0.925076452599388"
      ],
      "text/markdown": [
       "0.925076452599388"
      ],
      "text/plain": [
       "[1] 0.9250765"
      ]
     },
     "metadata": {},
     "output_type": "display_data"
    }
   ],
   "source": [
    "# Testing another kernel\n",
    "\n",
    "classifier_b <- ksvm(as.matrix(x), as.factor(y), scaled=TRUE,type = \"C-svc\", kernel=\"besseldot\",C=100)\n",
    "pred_b <- predict(classifier_b,x)\n",
    "print(\"predictions match for besseldot\")\n",
    "sum(pred_b == y) / nrow(data) "
   ]
  },
  {
   "cell_type": "markdown",
   "id": "7a88bfbc-612c-4a55-8d64-e7a430e48699",
   "metadata": {},
   "source": [
    "_____________\n",
    "3. Using the k-nearest-neighbors classification function kknn contained in the R kknn package, suggest a good value of k, and show how well it classifies that data points in the full data set.  Don’t forget to scale the data (scale=TRUE in kknn). "
   ]
  },
  {
   "cell_type": "code",
   "execution_count": 88,
   "id": "a78297b5-0ed3-4783-b43d-121ffd198084",
   "metadata": {},
   "outputs": [
    {
     "name": "stderr",
     "output_type": "stream",
     "text": [
      "Updating HTML index of packages in '.Library'\n",
      "\n",
      "Making 'packages.html' ...\n",
      " done\n",
      "\n"
     ]
    }
   ],
   "source": [
    "# load the kknn library\n",
    "install.packages(\"kknn\")\n",
    "library(kknn)\n",
    "set.seed(1337)\n",
    "# Define the predictor and response variables\n",
    "data <- read.table(\"./work/credit_card_data-headers.txt\", header = TRUE, sep = \"\\t\")\n",
    "\n",
    "# Define the predictor and response variables\n",
    "x <- data[,c(\"A1\",\"A2\",\"A3\",\"A8\",\"A9\",\"A10\",\"A11\",\"A12\",\"A14\",\"A15\")]\n"
   ]
  },
  {
   "cell_type": "code",
   "execution_count": 119,
   "id": "6feeb1ec-2b3d-4cc1-a006-0df5db21df38",
   "metadata": {},
   "outputs": [
    {
     "name": "stdout",
     "output_type": "stream",
     "text": [
      "[1] 0.5764526\n"
     ]
    }
   ],
   "source": [
    "# Build model\n",
    "knn_model <- kknn(R1  ~ .,data,data, k = 5, scale = TRUE)\n",
    "# Run the predictions\n",
    "prediction <- predict(knn_model, data=data)\n",
    "# calculate accuracy\n",
    "y <- data[,c(\"R1\")]\n",
    "accuracy <- mean(prediction == y)\n",
    "print(accuracy)"
   ]
  }
 ],
 "metadata": {
  "kernelspec": {
   "display_name": "R",
   "language": "R",
   "name": "ir"
  },
  "language_info": {
   "codemirror_mode": "r",
   "file_extension": ".r",
   "mimetype": "text/x-r-source",
   "name": "R",
   "pygments_lexer": "r",
   "version": "3.6.3"
  }
 },
 "nbformat": 4,
 "nbformat_minor": 5
}
